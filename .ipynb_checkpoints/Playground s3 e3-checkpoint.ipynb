{
 "cells": [
  {
   "cell_type": "code",
   "execution_count": 1,
   "id": "849b8dd3",
   "metadata": {},
   "outputs": [],
   "source": [
    "import pandas as pd\n",
    "import numpy as np\n",
    "import seaborn as sns\n",
    "\n",
    "from sklearn.model_selection import train_test_split\n",
    "from sklearn.model_selection import GridSearchCV\n",
    "from sklearn.ensemble import RandomForestClassifier\n",
    "from sklearn.preprocessing import Normalizer\n",
    "from sklearn.metrics import cohen_kappa_score\n",
    "from sklearn.svm import SVC"
   ]
  },
  {
   "cell_type": "code",
   "execution_count": 2,
   "id": "8ae62b58",
   "metadata": {},
   "outputs": [],
   "source": [
    "#import data\n",
    "sample_submission_data = pd.read_csv('sample_submission.csv')\n",
    "train_data = pd.read_csv('train.csv')\n",
    "test_data = pd.read_csv('test.csv')\n",
    "wine_extra_data = pd.read_csv('WineQT.csv')"
   ]
  },
  {
   "cell_type": "code",
   "execution_count": 3,
   "id": "0844bc39",
   "metadata": {},
   "outputs": [
    {
     "name": "stdout",
     "output_type": "stream",
     "text": [
      "Size of train: (2056, 13)\n",
      "Size of test: (1372, 12)\n",
      "Size of sample: (1372, 2)\n",
      "Size of extradata: (1143, 13)\n"
     ]
    }
   ],
   "source": [
    "print(f'Size of train: {train_data.shape}')\n",
    "print(f'Size of test: {test_data.shape}')\n",
    "print(f'Size of sample: {sample_submission_data.shape}')\n",
    "print(f'Size of extradata: {wine_extra_data.shape}')"
   ]
  },
  {
   "cell_type": "code",
   "execution_count": 4,
   "id": "ee0b39af",
   "metadata": {},
   "outputs": [],
   "source": [
    "#add extra data to train\n",
    "train_data = train_data.append(wine_extra_data, ignore_index = True)"
   ]
  },
  {
   "cell_type": "code",
   "execution_count": 5,
   "id": "3fc1bcd2",
   "metadata": {},
   "outputs": [],
   "source": [
    "X = train_data.drop(['Id', 'quality'], axis=1)\n",
    "y = train_data.quality"
   ]
  },
  {
   "cell_type": "code",
   "execution_count": 57,
   "id": "0e4a2db9",
   "metadata": {},
   "outputs": [],
   "source": [
    "transformer = Normalizer()\n",
    "X_norm_list = transformer.transform(X)\n",
    "X = pd.DataFrame(X_norm_list, columns=list(X))"
   ]
  },
  {
   "cell_type": "code",
   "execution_count": 6,
   "id": "e3a1415d",
   "metadata": {},
   "outputs": [],
   "source": [
    "X_train, X_test, y_train, y_test = train_test_split(X, y, random_state=42, test_size=0.25)"
   ]
  },
  {
   "cell_type": "code",
   "execution_count": 7,
   "id": "349bb1cf",
   "metadata": {},
   "outputs": [
    {
     "data": {
      "text/html": [
       "<div>\n",
       "<style scoped>\n",
       "    .dataframe tbody tr th:only-of-type {\n",
       "        vertical-align: middle;\n",
       "    }\n",
       "\n",
       "    .dataframe tbody tr th {\n",
       "        vertical-align: top;\n",
       "    }\n",
       "\n",
       "    .dataframe thead th {\n",
       "        text-align: right;\n",
       "    }\n",
       "</style>\n",
       "<table border=\"1\" class=\"dataframe\">\n",
       "  <thead>\n",
       "    <tr style=\"text-align: right;\">\n",
       "      <th></th>\n",
       "      <th>fixed acidity</th>\n",
       "      <th>volatile acidity</th>\n",
       "      <th>citric acid</th>\n",
       "      <th>residual sugar</th>\n",
       "      <th>chlorides</th>\n",
       "      <th>free sulfur dioxide</th>\n",
       "      <th>total sulfur dioxide</th>\n",
       "      <th>density</th>\n",
       "      <th>pH</th>\n",
       "      <th>sulphates</th>\n",
       "      <th>alcohol</th>\n",
       "    </tr>\n",
       "  </thead>\n",
       "  <tbody>\n",
       "    <tr>\n",
       "      <th>0</th>\n",
       "      <td>8.0</td>\n",
       "      <td>0.50</td>\n",
       "      <td>0.39</td>\n",
       "      <td>2.2</td>\n",
       "      <td>0.073</td>\n",
       "      <td>30.0</td>\n",
       "      <td>39.0</td>\n",
       "      <td>0.99572</td>\n",
       "      <td>3.33</td>\n",
       "      <td>0.77</td>\n",
       "      <td>12.1</td>\n",
       "    </tr>\n",
       "    <tr>\n",
       "      <th>1</th>\n",
       "      <td>9.3</td>\n",
       "      <td>0.30</td>\n",
       "      <td>0.73</td>\n",
       "      <td>2.3</td>\n",
       "      <td>0.092</td>\n",
       "      <td>30.0</td>\n",
       "      <td>67.0</td>\n",
       "      <td>0.99854</td>\n",
       "      <td>3.32</td>\n",
       "      <td>0.67</td>\n",
       "      <td>12.8</td>\n",
       "    </tr>\n",
       "    <tr>\n",
       "      <th>2</th>\n",
       "      <td>7.1</td>\n",
       "      <td>0.51</td>\n",
       "      <td>0.03</td>\n",
       "      <td>2.1</td>\n",
       "      <td>0.059</td>\n",
       "      <td>3.0</td>\n",
       "      <td>12.0</td>\n",
       "      <td>0.99660</td>\n",
       "      <td>3.52</td>\n",
       "      <td>0.73</td>\n",
       "      <td>11.3</td>\n",
       "    </tr>\n",
       "    <tr>\n",
       "      <th>3</th>\n",
       "      <td>8.1</td>\n",
       "      <td>0.87</td>\n",
       "      <td>0.22</td>\n",
       "      <td>2.6</td>\n",
       "      <td>0.084</td>\n",
       "      <td>11.0</td>\n",
       "      <td>65.0</td>\n",
       "      <td>0.99730</td>\n",
       "      <td>3.20</td>\n",
       "      <td>0.53</td>\n",
       "      <td>9.8</td>\n",
       "    </tr>\n",
       "    <tr>\n",
       "      <th>4</th>\n",
       "      <td>8.5</td>\n",
       "      <td>0.36</td>\n",
       "      <td>0.30</td>\n",
       "      <td>2.3</td>\n",
       "      <td>0.079</td>\n",
       "      <td>10.0</td>\n",
       "      <td>45.0</td>\n",
       "      <td>0.99444</td>\n",
       "      <td>3.20</td>\n",
       "      <td>1.36</td>\n",
       "      <td>9.5</td>\n",
       "    </tr>\n",
       "  </tbody>\n",
       "</table>\n",
       "</div>"
      ],
      "text/plain": [
       "   fixed acidity  volatile acidity  citric acid  residual sugar  chlorides  \\\n",
       "0            8.0              0.50         0.39             2.2      0.073   \n",
       "1            9.3              0.30         0.73             2.3      0.092   \n",
       "2            7.1              0.51         0.03             2.1      0.059   \n",
       "3            8.1              0.87         0.22             2.6      0.084   \n",
       "4            8.5              0.36         0.30             2.3      0.079   \n",
       "\n",
       "   free sulfur dioxide  total sulfur dioxide  density    pH  sulphates  \\\n",
       "0                 30.0                  39.0  0.99572  3.33       0.77   \n",
       "1                 30.0                  67.0  0.99854  3.32       0.67   \n",
       "2                  3.0                  12.0  0.99660  3.52       0.73   \n",
       "3                 11.0                  65.0  0.99730  3.20       0.53   \n",
       "4                 10.0                  45.0  0.99444  3.20       1.36   \n",
       "\n",
       "   alcohol  \n",
       "0     12.1  \n",
       "1     12.8  \n",
       "2     11.3  \n",
       "3      9.8  \n",
       "4      9.5  "
      ]
     },
     "execution_count": 7,
     "metadata": {},
     "output_type": "execute_result"
    }
   ],
   "source": [
    "X.head()"
   ]
  },
  {
   "cell_type": "code",
   "execution_count": null,
   "id": "56a66449",
   "metadata": {},
   "outputs": [],
   "source": []
  },
  {
   "cell_type": "code",
   "execution_count": 8,
   "id": "d95c249f",
   "metadata": {},
   "outputs": [],
   "source": [
    "#modeling"
   ]
  },
  {
   "cell_type": "code",
   "execution_count": null,
   "id": "2791bc5f",
   "metadata": {},
   "outputs": [],
   "source": []
  },
  {
   "cell_type": "code",
   "execution_count": 130,
   "id": "9cff78b8",
   "metadata": {},
   "outputs": [],
   "source": [
    "rf = RandomForestClassifier(criterion='entropy')\n",
    "parametrs = {'n_estimators':range(60, 80, 4),\n",
    "            'max_depth':range(1, 30, 6),\n",
    "            'min_samples_split':range(5, 56, 10),\n",
    "            'min_samples_leaf':range(2, 11, 2)}\n",
    "search = GridSearchCV(rf, parametrs, cv=3, n_jobs=-1)\n",
    "search.fit(X_train, y_train)\n",
    "model = search.best_estimator_\n",
    "prediction = model.predict(X_test)\n",
    "score = cohen_kappa_score(y_test, prediction)"
   ]
  },
  {
   "cell_type": "code",
   "execution_count": 131,
   "id": "27b33519",
   "metadata": {},
   "outputs": [
    {
     "data": {
      "text/plain": [
       "0.3558247903075489"
      ]
     },
     "execution_count": 131,
     "metadata": {},
     "output_type": "execute_result"
    }
   ],
   "source": [
    "score"
   ]
  },
  {
   "cell_type": "code",
   "execution_count": 132,
   "id": "9a1d0857",
   "metadata": {},
   "outputs": [
    {
     "data": {
      "text/plain": [
       "RandomForestClassifier(criterion='entropy', max_depth=25, min_samples_leaf=2,\n",
       "                       min_samples_split=5, n_estimators=64)"
      ]
     },
     "execution_count": 132,
     "metadata": {},
     "output_type": "execute_result"
    }
   ],
   "source": [
    "model"
   ]
  },
  {
   "cell_type": "code",
   "execution_count": 142,
   "id": "19d0252b",
   "metadata": {},
   "outputs": [
    {
     "data": {
      "text/html": [
       "<div>\n",
       "<style scoped>\n",
       "    .dataframe tbody tr th:only-of-type {\n",
       "        vertical-align: middle;\n",
       "    }\n",
       "\n",
       "    .dataframe tbody tr th {\n",
       "        vertical-align: top;\n",
       "    }\n",
       "\n",
       "    .dataframe thead th {\n",
       "        text-align: right;\n",
       "    }\n",
       "</style>\n",
       "<table border=\"1\" class=\"dataframe\">\n",
       "  <thead>\n",
       "    <tr style=\"text-align: right;\">\n",
       "      <th></th>\n",
       "      <th>n_estimators</th>\n",
       "      <th>max_depth</th>\n",
       "      <th>min_samples_split</th>\n",
       "      <th>min_samples_leaf</th>\n",
       "      <th>score</th>\n",
       "    </tr>\n",
       "  </thead>\n",
       "  <tbody>\n",
       "    <tr>\n",
       "      <th>30</th>\n",
       "      <td>31</td>\n",
       "      <td>90</td>\n",
       "      <td>5</td>\n",
       "      <td>5</td>\n",
       "      <td>0.360668</td>\n",
       "    </tr>\n",
       "    <tr>\n",
       "      <th>31</th>\n",
       "      <td>32</td>\n",
       "      <td>90</td>\n",
       "      <td>5</td>\n",
       "      <td>5</td>\n",
       "      <td>0.357494</td>\n",
       "    </tr>\n",
       "    <tr>\n",
       "      <th>45</th>\n",
       "      <td>46</td>\n",
       "      <td>90</td>\n",
       "      <td>5</td>\n",
       "      <td>5</td>\n",
       "      <td>0.346709</td>\n",
       "    </tr>\n",
       "    <tr>\n",
       "      <th>13</th>\n",
       "      <td>14</td>\n",
       "      <td>90</td>\n",
       "      <td>5</td>\n",
       "      <td>5</td>\n",
       "      <td>0.346589</td>\n",
       "    </tr>\n",
       "    <tr>\n",
       "      <th>23</th>\n",
       "      <td>24</td>\n",
       "      <td>90</td>\n",
       "      <td>5</td>\n",
       "      <td>5</td>\n",
       "      <td>0.345887</td>\n",
       "    </tr>\n",
       "  </tbody>\n",
       "</table>\n",
       "</div>"
      ],
      "text/plain": [
       "   n_estimators max_depth min_samples_split min_samples_leaf     score\n",
       "30           31        90                 5                5  0.360668\n",
       "31           32        90                 5                5  0.357494\n",
       "45           46        90                 5                5  0.346709\n",
       "13           14        90                 5                5  0.346589\n",
       "23           24        90                 5                5  0.345887"
      ]
     },
     "execution_count": 142,
     "metadata": {},
     "output_type": "execute_result"
    }
   ],
   "source": [
    "results = pd.DataFrame(columns=['n_estimators', 'max_depth', 'min_samples_split', 'min_samples_leaf', 'score'])\n",
    "for n_estimators in range(1, 50, 1):\n",
    "    for max_depth in range(90, 91):\n",
    "        for min_samples_split in range(5, 6):\n",
    "            for min_samples_leaf in range(5, 6):\n",
    "                rf = RandomForestClassifier(criterion='entropy',\n",
    "                                            n_estimators=n_estimators,\n",
    "                                            max_depth=max_depth,\n",
    "                                            min_samples_split=min_samples_split,\n",
    "                                            min_samples_leaf=min_samples_leaf)\n",
    "                rf.fit(X_train, y_train)\n",
    "                prediction = rf.predict(X_test)\n",
    "                score = cohen_kappa_score(y_test, prediction)\n",
    "                \n",
    "                pred_df = pd.DataFrame({'n_estimators':[n_estimators],\n",
    "                              'max_depth':[max_depth],\n",
    "                              'min_samples_split':[min_samples_split],\n",
    "                              'min_samples_leaf':[min_samples_leaf],\n",
    "                              'score':score})\n",
    "                results = results.append(pred_df, ignore_index = True)\n",
    "results.sort_values('score',ascending=False).head()"
   ]
  },
  {
   "cell_type": "code",
   "execution_count": 143,
   "id": "12c1c6d6",
   "metadata": {},
   "outputs": [],
   "source": [
    "best_moder_so_far = RandomForestClassifier(n_estimators=31, max_depth=90, min_samples_split=5, min_samples_leaf=5)"
   ]
  },
  {
   "cell_type": "code",
   "execution_count": 9,
   "id": "02df3df6",
   "metadata": {},
   "outputs": [],
   "source": [
    "svc = SVC()\n",
    "svc.fit(X_train, y_train)\n",
    "prediction = svc.predict(X_test)\n",
    "score = cohen_kappa_score(y_test, prediction)"
   ]
  },
  {
   "cell_type": "code",
   "execution_count": null,
   "id": "95cd01d7",
   "metadata": {},
   "outputs": [],
   "source": []
  }
 ],
 "metadata": {
  "kernelspec": {
   "display_name": "Python 3 (ipykernel)",
   "language": "python",
   "name": "python3"
  },
  "language_info": {
   "codemirror_mode": {
    "name": "ipython",
    "version": 3
   },
   "file_extension": ".py",
   "mimetype": "text/x-python",
   "name": "python",
   "nbconvert_exporter": "python",
   "pygments_lexer": "ipython3",
   "version": "3.9.7"
  }
 },
 "nbformat": 4,
 "nbformat_minor": 5
}
